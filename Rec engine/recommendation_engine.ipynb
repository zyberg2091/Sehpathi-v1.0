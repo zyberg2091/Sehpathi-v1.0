{
  "nbformat": 4,
  "nbformat_minor": 0,
  "metadata": {
    "colab": {
      "name": "Recommendation engine model - phase 1 ",
      "provenance": [],
      "collapsed_sections": [],
      "toc_visible": true
    },
    "kernelspec": {
      "name": "python3",
      "display_name": "Python 3"
    }
  },
  "cells": [
    {
      "cell_type": "markdown",
      "metadata": {
        "id": "F43vJQiJP2vx"
      },
      "source": [
        "# engine 1  (semantic similarity)\n",
        " \n",
        " content based personilized recommendation engine\n"
      ]
    },
    {
      "cell_type": "code",
      "metadata": {
        "id": "gznUcM-LVvwX"
      },
      "source": [
        "import pandas as pd\n",
        "import numpy as np"
      ],
      "execution_count": null,
      "outputs": []
    },
    {
      "cell_type": "code",
      "metadata": {
        "id": "8JzWr0aUPomV"
      },
      "source": [
        "py_data=pd.read_csv('/content/drive/MyDrive/Data/Recommendaton engine data/python.csv',names=['pycourses','channel_name'])\n",
        "js_data=pd.read_csv('/content/drive/MyDrive/Data/Recommendaton engine data/js.csv',names=['jscourses','channel_name'])\n",
        "sql_data=pd.read_csv('/content/drive/MyDrive/Data/Recommendaton engine data/sql.csv',names=['sqlcourses','channel_name'])"
      ],
      "execution_count": null,
      "outputs": []
    },
    {
      "cell_type": "code",
      "metadata": {
        "id": "xAHfsB2BVub-",
        "colab": {
          "base_uri": "https://localhost:8080/",
          "height": 194
        },
        "outputId": "683a567f-39b9-4958-c70b-de020c1117e7"
      },
      "source": [
        "py_data.head()"
      ],
      "execution_count": null,
      "outputs": [
        {
          "output_type": "execute_result",
          "data": {
            "text/html": [
              "<div>\n",
              "<style scoped>\n",
              "    .dataframe tbody tr th:only-of-type {\n",
              "        vertical-align: middle;\n",
              "    }\n",
              "\n",
              "    .dataframe tbody tr th {\n",
              "        vertical-align: top;\n",
              "    }\n",
              "\n",
              "    .dataframe thead th {\n",
              "        text-align: right;\n",
              "    }\n",
              "</style>\n",
              "<table border=\"1\" class=\"dataframe\">\n",
              "  <thead>\n",
              "    <tr style=\"text-align: right;\">\n",
              "      <th></th>\n",
              "      <th>pycourses</th>\n",
              "      <th>channel_name</th>\n",
              "    </tr>\n",
              "  </thead>\n",
              "  <tbody>\n",
              "    <tr>\n",
              "      <th>0</th>\n",
              "      <td>Python Tutorial for Beginners</td>\n",
              "      <td>Telusko</td>\n",
              "    </tr>\n",
              "    <tr>\n",
              "      <th>1</th>\n",
              "      <td>Python Tutorials For Absolute Beginners In Hindi</td>\n",
              "      <td>CodeWithHarry</td>\n",
              "    </tr>\n",
              "    <tr>\n",
              "      <th>2</th>\n",
              "      <td>Complete Python tutorial in Hindi (2020)</td>\n",
              "      <td>Harshit vashisth</td>\n",
              "    </tr>\n",
              "    <tr>\n",
              "      <th>3</th>\n",
              "      <td>PYTHON PROGRAMMING FOR BEGINNERS</td>\n",
              "      <td>Sundeep Saradhi Kanthety</td>\n",
              "    </tr>\n",
              "    <tr>\n",
              "      <th>4</th>\n",
              "      <td>Python Tutorials for Absolute Beginners by CS ...</td>\n",
              "      <td>CS Dojo</td>\n",
              "    </tr>\n",
              "  </tbody>\n",
              "</table>\n",
              "</div>"
            ],
            "text/plain": [
              "                                           pycourses              channel_name\n",
              "0                      Python Tutorial for Beginners                   Telusko\n",
              "1   Python Tutorials For Absolute Beginners In Hindi             CodeWithHarry\n",
              "2           Complete Python tutorial in Hindi (2020)          Harshit vashisth\n",
              "3                   PYTHON PROGRAMMING FOR BEGINNERS  Sundeep Saradhi Kanthety\n",
              "4  Python Tutorials for Absolute Beginners by CS ...                   CS Dojo"
            ]
          },
          "metadata": {
            "tags": []
          },
          "execution_count": 3
        }
      ]
    },
    {
      "cell_type": "code",
      "metadata": {
        "colab": {
          "base_uri": "https://localhost:8080/",
          "height": 194
        },
        "id": "mtsKqNiqmYXA",
        "outputId": "2814ed94-329c-4b00-e062-60f1a3b805dd"
      },
      "source": [
        "js_data.head()"
      ],
      "execution_count": null,
      "outputs": [
        {
          "output_type": "execute_result",
          "data": {
            "text/html": [
              "<div>\n",
              "<style scoped>\n",
              "    .dataframe tbody tr th:only-of-type {\n",
              "        vertical-align: middle;\n",
              "    }\n",
              "\n",
              "    .dataframe tbody tr th {\n",
              "        vertical-align: top;\n",
              "    }\n",
              "\n",
              "    .dataframe thead th {\n",
              "        text-align: right;\n",
              "    }\n",
              "</style>\n",
              "<table border=\"1\" class=\"dataframe\">\n",
              "  <thead>\n",
              "    <tr style=\"text-align: right;\">\n",
              "      <th></th>\n",
              "      <th>jscourses</th>\n",
              "      <th>channel_name</th>\n",
              "    </tr>\n",
              "  </thead>\n",
              "  <tbody>\n",
              "    <tr>\n",
              "      <th>0</th>\n",
              "      <td>Curso de HTML5 Completo e GRÁTIS</td>\n",
              "      <td>Curso em Vídeo</td>\n",
              "    </tr>\n",
              "    <tr>\n",
              "      <th>1</th>\n",
              "      <td>Web Development Tutorials For Beginners In Hin...</td>\n",
              "      <td>CodeWithHarry</td>\n",
              "    </tr>\n",
              "    <tr>\n",
              "      <th>2</th>\n",
              "      <td>JavaScript Tutorials Playlist</td>\n",
              "      <td>thenewboston</td>\n",
              "    </tr>\n",
              "    <tr>\n",
              "      <th>3</th>\n",
              "      <td>JavaScript Tutorial for Beginners</td>\n",
              "      <td>Telusko</td>\n",
              "    </tr>\n",
              "    <tr>\n",
              "      <th>4</th>\n",
              "      <td>Learn JavaScript In Arabic</td>\n",
              "      <td>Elzero Web School</td>\n",
              "    </tr>\n",
              "  </tbody>\n",
              "</table>\n",
              "</div>"
            ],
            "text/plain": [
              "                                           jscourses       channel_name\n",
              "0                   Curso de HTML5 Completo e GRÁTIS     Curso em Vídeo\n",
              "1  Web Development Tutorials For Beginners In Hin...      CodeWithHarry\n",
              "2                      JavaScript Tutorials Playlist       thenewboston\n",
              "3                  JavaScript Tutorial for Beginners            Telusko\n",
              "4                         Learn JavaScript In Arabic  Elzero Web School"
            ]
          },
          "metadata": {
            "tags": []
          },
          "execution_count": 4
        }
      ]
    },
    {
      "cell_type": "code",
      "metadata": {
        "colab": {
          "base_uri": "https://localhost:8080/",
          "height": 194
        },
        "id": "rbNo1CJhmci3",
        "outputId": "fa9dfd8d-d169-426f-ec30-08b1467c44bd"
      },
      "source": [
        "sql_data.head()"
      ],
      "execution_count": null,
      "outputs": [
        {
          "output_type": "execute_result",
          "data": {
            "text/html": [
              "<div>\n",
              "<style scoped>\n",
              "    .dataframe tbody tr th:only-of-type {\n",
              "        vertical-align: middle;\n",
              "    }\n",
              "\n",
              "    .dataframe tbody tr th {\n",
              "        vertical-align: top;\n",
              "    }\n",
              "\n",
              "    .dataframe thead th {\n",
              "        text-align: right;\n",
              "    }\n",
              "</style>\n",
              "<table border=\"1\" class=\"dataframe\">\n",
              "  <thead>\n",
              "    <tr style=\"text-align: right;\">\n",
              "      <th></th>\n",
              "      <th>sqlcourses</th>\n",
              "      <th>channel_name</th>\n",
              "    </tr>\n",
              "  </thead>\n",
              "  <tbody>\n",
              "    <tr>\n",
              "      <th>0</th>\n",
              "      <td>SQL Server tutorial for beginners</td>\n",
              "      <td>kudvenkat</td>\n",
              "    </tr>\n",
              "    <tr>\n",
              "      <th>1</th>\n",
              "      <td>SQL tutorials for beginners/ Oracle Database t...</td>\n",
              "      <td>Manish Sharma</td>\n",
              "    </tr>\n",
              "    <tr>\n",
              "      <th>2</th>\n",
              "      <td>Structured Query Language - SQL (Hindi)</td>\n",
              "      <td>Geeky Shows</td>\n",
              "    </tr>\n",
              "    <tr>\n",
              "      <th>3</th>\n",
              "      <td>Cursos de SQL Server</td>\n",
              "      <td>deividcoptero Programación</td>\n",
              "    </tr>\n",
              "    <tr>\n",
              "      <th>4</th>\n",
              "      <td>PL/SQL Tutorial for beginners By Manish Sharma...</td>\n",
              "      <td>Manish Sharma</td>\n",
              "    </tr>\n",
              "  </tbody>\n",
              "</table>\n",
              "</div>"
            ],
            "text/plain": [
              "                                          sqlcourses                channel_name\n",
              "0                  SQL Server tutorial for beginners                   kudvenkat\n",
              "1  SQL tutorials for beginners/ Oracle Database t...               Manish Sharma\n",
              "2            Structured Query Language - SQL (Hindi)                 Geeky Shows\n",
              "3                               Cursos de SQL Server  deividcoptero Programación\n",
              "4  PL/SQL Tutorial for beginners By Manish Sharma...               Manish Sharma"
            ]
          },
          "metadata": {
            "tags": []
          },
          "execution_count": 5
        }
      ]
    },
    {
      "cell_type": "code",
      "metadata": {
        "colab": {
          "base_uri": "https://localhost:8080/"
        },
        "id": "1KSPcZCPYKpi",
        "outputId": "74116e4a-3295-4b08-e2c6-2521633c84ea"
      },
      "source": [
        "len(py_data),len(js_data),len(sql_data)"
      ],
      "execution_count": null,
      "outputs": [
        {
          "output_type": "execute_result",
          "data": {
            "text/plain": [
              "(250, 250, 250)"
            ]
          },
          "metadata": {
            "tags": []
          },
          "execution_count": 6
        }
      ]
    },
    {
      "cell_type": "code",
      "metadata": {
        "id": "z-miABSWW3lx"
      },
      "source": [
        "#prepn for python,js,sql\n",
        "\n",
        "x1,y1=py_data['pycourses'].values,py_data['channel_name'].values\n",
        "x2,y2=js_data['jscourses'].values,js_data['channel_name'].values\n",
        "x3,y3=sql_data['sqlcourses'].values,sql_data['channel_name'].values\n",
        "\n"
      ],
      "execution_count": null,
      "outputs": []
    },
    {
      "cell_type": "code",
      "metadata": {
        "id": "6rK8A4b_e5QF"
      },
      "source": [
        "def data(x1,x2,x3,y1,y2,y3):\n",
        "  x_data,y_data=[],[]\n",
        "  for (i,j,k),(i1,j1,k1) in zip(zip(x1,x2,x3),zip(y1,y2,y3)):\n",
        "    x_data.append(i),y_data.append(i1)\n",
        "    x_data.append(j),y_data.append(j1)\n",
        "    x_data.append(k),y_data.append(k1)\n",
        "  \n",
        "  return np.array(x_data),np.array(y_data)\n"
      ],
      "execution_count": null,
      "outputs": []
    },
    {
      "cell_type": "code",
      "metadata": {
        "id": "YG8vb5SUdyHU"
      },
      "source": [
        "x_data,y_data=data(x1,x2,x3,y1,y2,y3)"
      ],
      "execution_count": null,
      "outputs": []
    },
    {
      "cell_type": "code",
      "metadata": {
        "colab": {
          "base_uri": "https://localhost:8080/"
        },
        "id": "hjPjREX8dH8F",
        "outputId": "2df8fbd3-c955-4f1e-8388-e7072d5ef47a"
      },
      "source": [
        "len(x_data),len(y_data)"
      ],
      "execution_count": null,
      "outputs": [
        {
          "output_type": "execute_result",
          "data": {
            "text/plain": [
              "(750, 750)"
            ]
          },
          "metadata": {
            "tags": []
          },
          "execution_count": 10
        }
      ]
    },
    {
      "cell_type": "code",
      "metadata": {
        "colab": {
          "base_uri": "https://localhost:8080/"
        },
        "id": "O6aX5UYsth2f",
        "outputId": "472792e6-4829-48ca-cde2-dc037769602a"
      },
      "source": [
        "x_data[1],y_data[1]"
      ],
      "execution_count": null,
      "outputs": [
        {
          "output_type": "execute_result",
          "data": {
            "text/plain": [
              "('Curso de HTML5 Completo e GRÁTIS', 'Curso em Vídeo')"
            ]
          },
          "metadata": {
            "tags": []
          },
          "execution_count": 11
        }
      ]
    },
    {
      "cell_type": "code",
      "metadata": {
        "id": "StEtsz8Lc9aL"
      },
      "source": [
        "# no regex cleaning\n",
        "\n",
        "# def vocab(x_data):\n",
        "#   vocab=[]\n",
        "#   for text in x_data:\n",
        "#     text=text.lower()\n",
        "#     for word in text.split():\n",
        "#       if word not in vocab:\n",
        "#         vocab.append(word)\n",
        "\n",
        "#   return vocab\n",
        "\n",
        "  \n",
        "\n",
        "\n"
      ],
      "execution_count": null,
      "outputs": []
    },
    {
      "cell_type": "code",
      "metadata": {
        "id": "Qy-rkCvAoft7"
      },
      "source": [
        "#glove embedding optional\n",
        "\n",
        "# embeddings={}\n",
        "# out_file=open('/content/drive/MyDrive/Data/glove.6B.100d.txt','r')\n",
        "\n",
        "# for line in out_file:\n",
        "#   word=line.split()[0].lower()\n",
        "#   vec=line.split()[1:]\n",
        "#   embeddings[word]=vec\n",
        "\n",
        "\n",
        "\n",
        "\n",
        "\n"
      ],
      "execution_count": null,
      "outputs": []
    },
    {
      "cell_type": "code",
      "metadata": {
        "id": "D-xlCy9HssW5"
      },
      "source": [
        "# embedding_matrix=np.zeros((len(vocab),100))\n",
        "# vocab=vocab(x_data)\n",
        "# for i,vword in enumerate(vocab):\n",
        "#   if vword in embeddings.keys():\n",
        "#     embedding_matrix[i]=embeddings[vword]\n",
        "#   else:\n",
        "#     embedding_matrix[i]=np.zeros(100)"
      ],
      "execution_count": null,
      "outputs": []
    },
    {
      "cell_type": "code",
      "metadata": {
        "id": "glzqSdketXR6"
      },
      "source": [
        "# embedding_matrix.shape   #should not be used as it does not supports many languages"
      ],
      "execution_count": null,
      "outputs": []
    },
    {
      "cell_type": "code",
      "metadata": {
        "colab": {
          "base_uri": "https://localhost:8080/"
        },
        "id": "GqNmVzHn1hGQ",
        "outputId": "58536de1-bb8c-4fee-abc3-8700382b4b7f"
      },
      "source": [
        "!pip install sentence-transformers"
      ],
      "execution_count": null,
      "outputs": [
        {
          "output_type": "stream",
          "text": [
            "Collecting sentence-transformers\n",
            "\u001b[?25l  Downloading https://files.pythonhosted.org/packages/6a/e2/84d6acfcee2d83164149778a33b6bdd1a74e1bcb59b2b2cd1b861359b339/sentence-transformers-0.4.1.2.tar.gz (64kB)\n",
            "\u001b[K     |████████████████████████████████| 71kB 3.8MB/s \n",
            "\u001b[?25hCollecting transformers<5.0.0,>=3.1.0\n",
            "\u001b[?25l  Downloading https://files.pythonhosted.org/packages/f9/54/5ca07ec9569d2f232f3166de5457b63943882f7950ddfcc887732fc7fb23/transformers-4.3.3-py3-none-any.whl (1.9MB)\n",
            "\u001b[K     |████████████████████████████████| 1.9MB 9.2MB/s \n",
            "\u001b[?25hRequirement already satisfied: tqdm in /usr/local/lib/python3.7/dist-packages (from sentence-transformers) (4.41.1)\n",
            "Requirement already satisfied: torch>=1.6.0 in /usr/local/lib/python3.7/dist-packages (from sentence-transformers) (1.8.0+cu101)\n",
            "Requirement already satisfied: numpy in /usr/local/lib/python3.7/dist-packages (from sentence-transformers) (1.19.5)\n",
            "Requirement already satisfied: scikit-learn in /usr/local/lib/python3.7/dist-packages (from sentence-transformers) (0.22.2.post1)\n",
            "Requirement already satisfied: scipy in /usr/local/lib/python3.7/dist-packages (from sentence-transformers) (1.4.1)\n",
            "Requirement already satisfied: nltk in /usr/local/lib/python3.7/dist-packages (from sentence-transformers) (3.2.5)\n",
            "Collecting sentencepiece\n",
            "\u001b[?25l  Downloading https://files.pythonhosted.org/packages/f5/99/e0808cb947ba10f575839c43e8fafc9cc44e4a7a2c8f79c60db48220a577/sentencepiece-0.1.95-cp37-cp37m-manylinux2014_x86_64.whl (1.2MB)\n",
            "\u001b[K     |████████████████████████████████| 1.2MB 41.0MB/s \n",
            "\u001b[?25hRequirement already satisfied: filelock in /usr/local/lib/python3.7/dist-packages (from transformers<5.0.0,>=3.1.0->sentence-transformers) (3.0.12)\n",
            "Collecting tokenizers<0.11,>=0.10.1\n",
            "\u001b[?25l  Downloading https://files.pythonhosted.org/packages/71/23/2ddc317b2121117bf34dd00f5b0de194158f2a44ee2bf5e47c7166878a97/tokenizers-0.10.1-cp37-cp37m-manylinux2010_x86_64.whl (3.2MB)\n",
            "\u001b[K     |████████████████████████████████| 3.2MB 39.9MB/s \n",
            "\u001b[?25hRequirement already satisfied: packaging in /usr/local/lib/python3.7/dist-packages (from transformers<5.0.0,>=3.1.0->sentence-transformers) (20.9)\n",
            "Requirement already satisfied: regex!=2019.12.17 in /usr/local/lib/python3.7/dist-packages (from transformers<5.0.0,>=3.1.0->sentence-transformers) (2019.12.20)\n",
            "Requirement already satisfied: importlib-metadata; python_version < \"3.8\" in /usr/local/lib/python3.7/dist-packages (from transformers<5.0.0,>=3.1.0->sentence-transformers) (3.7.0)\n",
            "Requirement already satisfied: requests in /usr/local/lib/python3.7/dist-packages (from transformers<5.0.0,>=3.1.0->sentence-transformers) (2.23.0)\n",
            "Collecting sacremoses\n",
            "\u001b[?25l  Downloading https://files.pythonhosted.org/packages/7d/34/09d19aff26edcc8eb2a01bed8e98f13a1537005d31e95233fd48216eed10/sacremoses-0.0.43.tar.gz (883kB)\n",
            "\u001b[K     |████████████████████████████████| 890kB 42.5MB/s \n",
            "\u001b[?25hRequirement already satisfied: typing-extensions in /usr/local/lib/python3.7/dist-packages (from torch>=1.6.0->sentence-transformers) (3.7.4.3)\n",
            "Requirement already satisfied: joblib>=0.11 in /usr/local/lib/python3.7/dist-packages (from scikit-learn->sentence-transformers) (1.0.1)\n",
            "Requirement already satisfied: six in /usr/local/lib/python3.7/dist-packages (from nltk->sentence-transformers) (1.15.0)\n",
            "Requirement already satisfied: pyparsing>=2.0.2 in /usr/local/lib/python3.7/dist-packages (from packaging->transformers<5.0.0,>=3.1.0->sentence-transformers) (2.4.7)\n",
            "Requirement already satisfied: zipp>=0.5 in /usr/local/lib/python3.7/dist-packages (from importlib-metadata; python_version < \"3.8\"->transformers<5.0.0,>=3.1.0->sentence-transformers) (3.4.1)\n",
            "Requirement already satisfied: chardet<4,>=3.0.2 in /usr/local/lib/python3.7/dist-packages (from requests->transformers<5.0.0,>=3.1.0->sentence-transformers) (3.0.4)\n",
            "Requirement already satisfied: certifi>=2017.4.17 in /usr/local/lib/python3.7/dist-packages (from requests->transformers<5.0.0,>=3.1.0->sentence-transformers) (2020.12.5)\n",
            "Requirement already satisfied: urllib3!=1.25.0,!=1.25.1,<1.26,>=1.21.1 in /usr/local/lib/python3.7/dist-packages (from requests->transformers<5.0.0,>=3.1.0->sentence-transformers) (1.24.3)\n",
            "Requirement already satisfied: idna<3,>=2.5 in /usr/local/lib/python3.7/dist-packages (from requests->transformers<5.0.0,>=3.1.0->sentence-transformers) (2.10)\n",
            "Requirement already satisfied: click in /usr/local/lib/python3.7/dist-packages (from sacremoses->transformers<5.0.0,>=3.1.0->sentence-transformers) (7.1.2)\n",
            "Building wheels for collected packages: sentence-transformers, sacremoses\n",
            "  Building wheel for sentence-transformers (setup.py) ... \u001b[?25l\u001b[?25hdone\n",
            "  Created wheel for sentence-transformers: filename=sentence_transformers-0.4.1.2-cp37-none-any.whl size=103068 sha256=e22ad98c7cd40ea0384a4c8cd857112309fbbc6d0936ccf0635b4ada42a29998\n",
            "  Stored in directory: /root/.cache/pip/wheels/3d/33/d1/5703dd56199c09d4a1b41e0c07fb4e7765a84d787cbdc48ac3\n",
            "  Building wheel for sacremoses (setup.py) ... \u001b[?25l\u001b[?25hdone\n",
            "  Created wheel for sacremoses: filename=sacremoses-0.0.43-cp37-none-any.whl size=893262 sha256=49149ce3044da92ef7c3a15d57433d9f351a0c0c5e7f879ad1b4d2c6e074961d\n",
            "  Stored in directory: /root/.cache/pip/wheels/29/3c/fd/7ce5c3f0666dab31a50123635e6fb5e19ceb42ce38d4e58f45\n",
            "Successfully built sentence-transformers sacremoses\n",
            "Installing collected packages: tokenizers, sacremoses, transformers, sentencepiece, sentence-transformers\n",
            "Successfully installed sacremoses-0.0.43 sentence-transformers-0.4.1.2 sentencepiece-0.1.95 tokenizers-0.10.1 transformers-4.3.3\n"
          ],
          "name": "stdout"
        }
      ]
    },
    {
      "cell_type": "code",
      "metadata": {
        "id": "ulRZBDcotpdB",
        "colab": {
          "base_uri": "https://localhost:8080/"
        },
        "outputId": "7fdcabac-0795-446e-9ab4-5163f88f11e5"
      },
      "source": [
        "# using sentence embeddings for cosine similarity metric in sematics simalarity measurement\n",
        "\n",
        "from sentence_transformers import SentenceTransformer\n",
        "\n",
        "model=SentenceTransformer('stsb-distilbert-base')\n",
        "course_database=x_data\n",
        "\n",
        "\n",
        "\n"
      ],
      "execution_count": null,
      "outputs": [
        {
          "output_type": "stream",
          "text": [
            "100%|██████████| 245M/245M [00:13<00:00, 17.6MB/s]\n"
          ],
          "name": "stderr"
        }
      ]
    },
    {
      "cell_type": "code",
      "metadata": {
        "id": "kymbi7fD7bjo"
      },
      "source": [
        "encodings_database=model.encode(course_database)"
      ],
      "execution_count": null,
      "outputs": []
    },
    {
      "cell_type": "code",
      "metadata": {
        "colab": {
          "base_uri": "https://localhost:8080/"
        },
        "id": "JfBSRxbP3yfL",
        "outputId": "67afaede-f491-4663-c105-1a0577213719"
      },
      "source": [
        "user_input=str(input())\n",
        "\n",
        "user_encoding=model.encode([user_input])"
      ],
      "execution_count": null,
      "outputs": [
        {
          "output_type": "stream",
          "text": [
            "python courses\n"
          ],
          "name": "stdout"
        }
      ]
    },
    {
      "cell_type": "code",
      "metadata": {
        "colab": {
          "base_uri": "https://localhost:8080/"
        },
        "id": "Kiiwxd4486fo",
        "outputId": "41f7d43b-7f1a-4cb6-da08-d143704f14b0"
      },
      "source": [
        "user_encoding.shape"
      ],
      "execution_count": null,
      "outputs": [
        {
          "output_type": "execute_result",
          "data": {
            "text/plain": [
              "(1, 768)"
            ]
          },
          "metadata": {
            "tags": []
          },
          "execution_count": 20
        }
      ]
    },
    {
      "cell_type": "code",
      "metadata": {
        "colab": {
          "base_uri": "https://localhost:8080/"
        },
        "id": "8xDc8HDC0r2g",
        "outputId": "0aa0c5db-a8d6-44a0-c32a-8d5865237944"
      },
      "source": [
        "encodings_database.shape"
      ],
      "execution_count": null,
      "outputs": [
        {
          "output_type": "execute_result",
          "data": {
            "text/plain": [
              "(750, 768)"
            ]
          },
          "metadata": {
            "tags": []
          },
          "execution_count": 21
        }
      ]
    },
    {
      "cell_type": "code",
      "metadata": {
        "id": "o_EpQoDL4qIH"
      },
      "source": [
        "from sklearn.metrics.pairwise import cosine_similarity\n",
        "\n",
        "scores={}\n",
        "for i,encoding in enumerate(encodings_database):\n",
        "  sim_score=cosine_similarity(user_encoding,[encoding])\n",
        "  scores[i]=sim_score\n",
        "\n",
        "best_score=max(scores.values())"
      ],
      "execution_count": null,
      "outputs": []
    },
    {
      "cell_type": "code",
      "metadata": {
        "id": "yYZchIyt8lKd"
      },
      "source": [
        "top_10_scores=list(sorted(scores.values(),reverse=True))[:10]    #sorted scores"
      ],
      "execution_count": null,
      "outputs": []
    },
    {
      "cell_type": "code",
      "metadata": {
        "id": "JtdiZ1BGvn0u"
      },
      "source": [
        "top_10_courses=[(course_database[i[0]],y_data[i[0]],list(i[1][0])) for i in [(key,val) for key,val in scores.items() if val in top_10_scores] if x_data[i[0]]==course_database[i[0]]]"
      ],
      "execution_count": null,
      "outputs": []
    },
    {
      "cell_type": "code",
      "metadata": {
        "colab": {
          "base_uri": "https://localhost:8080/"
        },
        "id": "uu0swEsxTE5v",
        "outputId": "08f01b38-ca24-4692-b09f-91bf0742b726"
      },
      "source": [
        "top_10_courses  # not sorted"
      ],
      "execution_count": null,
      "outputs": [
        {
          "output_type": "execute_result",
          "data": {
            "text/plain": [
              "[('Python Problem Solving', 'T3SO Tutorials', [0.85434675]),\n",
              " ('Python Programs', 'MySirG.com', [0.9179006]),\n",
              " ('Python', 'Dạy Nhau Học', [0.92576593]),\n",
              " ('WEB2 Python', '생활코딩', [0.84341705]),\n",
              " ('Python Programs Examples', \"Amulya's Academy\", [0.8621799]),\n",
              " ('PYTHON', 'Δημήτρης Ψούνης', [0.92576593]),\n",
              " ('Python', 'Computer Science Center', [0.92576593]),\n",
              " ('Python Problem Solving', 'T3SO Tutorials', [0.85434675]),\n",
              " ('Python Videos', 'Traversy Media', [0.88256645]),\n",
              " ('Python', 'Code Cube', [0.92576593])]"
            ]
          },
          "metadata": {
            "tags": []
          },
          "execution_count": 25
        }
      ]
    },
    {
      "cell_type": "code",
      "metadata": {
        "id": "uD9gqH88cyvO"
      },
      "source": [
        "unique_top_scores=sorted(np.unique(top_10_scores),reverse=True)  "
      ],
      "execution_count": null,
      "outputs": []
    },
    {
      "cell_type": "code",
      "metadata": {
        "id": "9Wmt9I4vG8Ik"
      },
      "source": [
        "#suggest courses in descending order,threshold score is 0.58 which is taken after experiments.\n",
        "top_10_preferences=[]\n",
        "for i in unique_top_scores:\n",
        "  for courses in top_10_courses:\n",
        "    if courses[2][0]==i and i>0.58:\n",
        "      top_10_preferences.append(courses)\n",
        "\n"
      ],
      "execution_count": null,
      "outputs": []
    },
    {
      "cell_type": "code",
      "metadata": {
        "colab": {
          "base_uri": "https://localhost:8080/"
        },
        "id": "O81Bp2Wa1wBF",
        "outputId": "b25495ad-afe6-4548-d870-9bcafef7c400"
      },
      "source": [
        "top_10_preferences  #sorted order"
      ],
      "execution_count": null,
      "outputs": [
        {
          "output_type": "execute_result",
          "data": {
            "text/plain": [
              "[('Python', 'Dạy Nhau Học', [0.92576593]),\n",
              " ('PYTHON', 'Δημήτρης Ψούνης', [0.92576593]),\n",
              " ('Python', 'Computer Science Center', [0.92576593]),\n",
              " ('Python', 'Code Cube', [0.92576593]),\n",
              " ('Python Programs', 'MySirG.com', [0.9179006]),\n",
              " ('Python Videos', 'Traversy Media', [0.88256645]),\n",
              " ('Python Programs Examples', \"Amulya's Academy\", [0.8621799]),\n",
              " ('Python Problem Solving', 'T3SO Tutorials', [0.85434675]),\n",
              " ('Python Problem Solving', 'T3SO Tutorials', [0.85434675]),\n",
              " ('WEB2 Python', '생활코딩', [0.84341705])]"
            ]
          },
          "metadata": {
            "tags": []
          },
          "execution_count": 29
        }
      ]
    },
    {
      "cell_type": "code",
      "metadata": {
        "id": "tmp9paTFesBW"
      },
      "source": [
        "#predict top 5 courses if top_10_preferences is null\n",
        "\n",
        "if len(top_10_preferences)==0:\n",
        "  top_5_preferences=[]\n",
        "  top_5_scores=np.array(top_10_scores[:5]).ravel()\n",
        "\n",
        "  for courses in top_10_courses:\n",
        "    if courses[2][0] in top_5_scores:\n",
        "      top_5_preferences.append(courses)\n",
        "\n",
        "  print(top_5_preferences)\n"
      ],
      "execution_count": null,
      "outputs": []
    },
    {
      "cell_type": "code",
      "metadata": {
        "colab": {
          "base_uri": "https://localhost:8080/"
        },
        "id": "4TE9uPXjgkc9",
        "outputId": "5ce78602-0799-4fd1-bcec-1b5ee8dceb55"
      },
      "source": [
        "# top_5_scores=np.array(top_10_scores[:5]).ravel()\n",
        "# top_5_scores"
      ],
      "execution_count": null,
      "outputs": [
        {
          "output_type": "execute_result",
          "data": {
            "text/plain": [
              "array([0.46405822, 0.44035625, 0.43788075], dtype=float32)"
            ]
          },
          "metadata": {
            "tags": []
          },
          "execution_count": 24
        }
      ]
    },
    {
      "cell_type": "code",
      "metadata": {
        "colab": {
          "base_uri": "https://localhost:8080/"
        },
        "id": "_A0VNkwcDZXt",
        "outputId": "3cd4e87a-b03e-483e-cfbb-febde49d041f"
      },
      "source": [
        "!pip install Levenshtein"
      ],
      "execution_count": null,
      "outputs": [
        {
          "output_type": "stream",
          "text": [
            "Collecting Levenshtein\n",
            "\u001b[?25l  Downloading https://files.pythonhosted.org/packages/8e/41/ff25ae28c972a63abde29cd5cea7c648ae0e16b334693cede0522e66dd68/levenshtein-0.12.0-cp37-cp37m-manylinux1_x86_64.whl (158kB)\n",
            "\r\u001b[K     |██                              | 10kB 7.2MB/s eta 0:00:01\r\u001b[K     |████▏                           | 20kB 11.3MB/s eta 0:00:01\r\u001b[K     |██████▏                         | 30kB 10.9MB/s eta 0:00:01\r\u001b[K     |████████▎                       | 40kB 8.9MB/s eta 0:00:01\r\u001b[K     |██████████▍                     | 51kB 5.2MB/s eta 0:00:01\r\u001b[K     |████████████▍                   | 61kB 5.6MB/s eta 0:00:01\r\u001b[K     |██████████████▌                 | 71kB 5.8MB/s eta 0:00:01\r\u001b[K     |████████████████▋               | 81kB 6.4MB/s eta 0:00:01\r\u001b[K     |██████████████████▋             | 92kB 6.8MB/s eta 0:00:01\r\u001b[K     |████████████████████▊           | 102kB 5.2MB/s eta 0:00:01\r\u001b[K     |██████████████████████▉         | 112kB 5.2MB/s eta 0:00:01\r\u001b[K     |████████████████████████▉       | 122kB 5.2MB/s eta 0:00:01\r\u001b[K     |███████████████████████████     | 133kB 5.2MB/s eta 0:00:01\r\u001b[K     |█████████████████████████████   | 143kB 5.2MB/s eta 0:00:01\r\u001b[K     |███████████████████████████████ | 153kB 5.2MB/s eta 0:00:01\r\u001b[K     |████████████████████████████████| 163kB 5.2MB/s \n",
            "\u001b[?25hRequirement already satisfied: setuptools in /usr/local/lib/python3.7/dist-packages (from Levenshtein) (54.0.0)\n",
            "Installing collected packages: Levenshtein\n",
            "Successfully installed Levenshtein-0.12.0\n"
          ],
          "name": "stdout"
        }
      ]
    },
    {
      "cell_type": "code",
      "metadata": {
        "id": "U009t2FyjyRl"
      },
      "source": [
        "#syntactic simalrity measurement using fuzzy matching with levenshetien distance and ratio\n",
        "\n",
        "\"\"\"currently this engine supports small database.It is important to understand the sentence structure for syntactical matching such as spelling mistakes.final score will be calculated after a lot of testing on a large scale\"\"\"\n",
        "\n",
        "\n",
        "from Levenshtein import distance,ratio\n",
        "\n",
        "# already sorted preferences\n",
        "\n",
        "\n",
        "final_course_dis=[]\n",
        "sync_score=[]\n",
        "if len(top_10_preferences)!=0:\n",
        "  sub=[course[0].lower() for course in top_10_preferences]          \n",
        "  author=[course[1] for course in top_10_preferences]\n",
        "  sem_score=[course[2] for course in top_10_preferences]\n",
        "else:\n",
        "  sub=[course[0].lower() for course in top_5_preferences]\n",
        "  author=[course[1] for course in top_5_preferences]\n",
        "  sem_score=[course[2] for course in top_5_preferences]\n",
        "\n",
        "for course,ch_name,s in zip(sub,author,sem_score):\n",
        "  overlap=np.intersect1d(np.array([i for i in course]),np.array([i for i in user_input.lower()]))\n",
        "  if len(overlap)>0:   \n",
        "      r=ratio(user_input.lower(),course)\n",
        "      sync_score.append(r)\n",
        "      if len(top_10_preferences)!=0 and r>0.45:                                                                    # threshold val is selected after few experiments\n",
        "        final_course_dis.append((course,ch_name,f'syntactic_s : {r}',f'semtantic_s : {s}'))\n",
        "      elif len(top_10_preferences)==0:                                                          # print top_3_preferences ignoring syntactic scores\n",
        "        final_course_dis.append((course,ch_name,f'syntactic_s : {r}',f'semtantic_s : {s}'))"
      ],
      "execution_count": null,
      "outputs": []
    },
    {
      "cell_type": "code",
      "metadata": {
        "colab": {
          "base_uri": "https://localhost:8080/"
        },
        "id": "-42Q6-CVxfmp",
        "outputId": "e6b6a714-ac79-458e-e5c7-5884de96a931"
      },
      "source": [
        "final_course_dis"
      ],
      "execution_count": null,
      "outputs": [
        {
          "output_type": "execute_result",
          "data": {
            "text/plain": [
              "[('python', 'Dạy Nhau Học', 'syntactic_s : 0.6', 'semtantic_s : [0.92576593]'),\n",
              " ('python',\n",
              "  'Δημήτρης Ψούνης',\n",
              "  'syntactic_s : 0.6',\n",
              "  'semtantic_s : [0.92576593]'),\n",
              " ('python',\n",
              "  'Computer Science Center',\n",
              "  'syntactic_s : 0.6',\n",
              "  'semtantic_s : [0.92576593]'),\n",
              " ('python', 'Code Cube', 'syntactic_s : 0.6', 'semtantic_s : [0.92576593]'),\n",
              " ('python programs',\n",
              "  'MySirG.com',\n",
              "  'syntactic_s : 0.6896551724137931',\n",
              "  'semtantic_s : [0.9179006]'),\n",
              " ('python videos',\n",
              "  'Traversy Media',\n",
              "  'syntactic_s : 0.6666666666666666',\n",
              "  'semtantic_s : [0.88256645]'),\n",
              " ('python programs examples',\n",
              "  \"Amulya's Academy\",\n",
              "  'syntactic_s : 0.631578947368421',\n",
              "  'semtantic_s : [0.8621799]'),\n",
              " ('python problem solving',\n",
              "  'T3SO Tutorials',\n",
              "  'syntactic_s : 0.5555555555555556',\n",
              "  'semtantic_s : [0.85434675]'),\n",
              " ('python problem solving',\n",
              "  'T3SO Tutorials',\n",
              "  'syntactic_s : 0.5555555555555556',\n",
              "  'semtantic_s : [0.85434675]'),\n",
              " ('web2 python', '생활코딩', 'syntactic_s : 0.48', 'semtantic_s : [0.84341705]')]"
            ]
          },
          "metadata": {
            "tags": []
          },
          "execution_count": 34
        }
      ]
    },
    {
      "cell_type": "code",
      "metadata": {
        "id": "b5AtFPq2vQDS",
        "colab": {
          "base_uri": "https://localhost:8080/"
        },
        "outputId": "4cae7067-2cc5-420c-ebcc-3df5638fb6f4"
      },
      "source": [
        "print(f'user is trying to search for courses like: {final_course_dis}')"
      ],
      "execution_count": null,
      "outputs": [
        {
          "output_type": "stream",
          "text": [
            "user is trying to search for courses like: [('ms-sql server və t-sql dərsləri', 'Tamerlan Rustambayli', 'syntactic_s : 0.2222222222222222', 'semtantic_s : [0.43788075]'), ('sql for beginners (mysql)', 'SDET - QA Automation Techie', 'syntactic_s : 0.3333333333333333', 'semtantic_s : [0.44035625]'), ('sql and plsql', 'Kishan Mashru', 'syntactic_s : 0.3333333333333333', 'semtantic_s : [0.46405822]')]\n"
          ],
          "name": "stdout"
        }
      ]
    },
    {
      "cell_type": "code",
      "metadata": {
        "id": "hoeg1KS_voJ9"
      },
      "source": [
        "if preferences is None:\n",
        "  default_input_feed=rcourse\n",
        "\n",
        "#run the similarity script again for deault input feed\n",
        "\n",
        "  "
      ],
      "execution_count": null,
      "outputs": []
    },
    {
      "cell_type": "code",
      "metadata": {
        "id": "XRIVOHyg8WLH"
      },
      "source": [
        "course_database[:50]"
      ],
      "execution_count": null,
      "outputs": []
    },
    {
      "cell_type": "code",
      "metadata": {
        "id": "5weGXsPMopgW"
      },
      "source": [
        ""
      ],
      "execution_count": null,
      "outputs": []
    }
  ]
}